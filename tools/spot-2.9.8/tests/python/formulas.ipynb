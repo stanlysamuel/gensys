{
 "cells": [
  {
   "cell_type": "markdown",
   "metadata": {},
   "source": [
    "Handling LTL and PSL formulas\n",
    "============================="
   ]
  },
  {
   "cell_type": "code",
   "execution_count": 1,
   "metadata": {},
   "outputs": [],
   "source": [
    "import spot\n",
    "from IPython.display import display # not needed with recent Jupyter"
   ]
  },
  {
   "cell_type": "markdown",
   "metadata": {},
   "source": [
    "For interactive use, formulas can be entered as text strings and passed to the `spot.formula` constructor."
   ]
  },
  {
   "cell_type": "code",
   "execution_count": 2,
   "metadata": {},
   "outputs": [
    {
     "data": {
      "text/latex": [
       "$p_{1} \\mathbin{\\mathsf{U}} (p_{2} \\mathbin{\\mathsf{R}} (p_{3} \\land \\lnot p_{4}))$"
      ],
      "text/plain": [
       "spot.formula(\"p1 U (p2 R (p3 & !p4))\")"
      ]
     },
     "execution_count": 2,
     "metadata": {},
     "output_type": "execute_result"
    }
   ],
   "source": [
    "f = spot.formula('p1 U p2 R (p3 & !p4)')\n",
    "f"
   ]
  },
  {
   "cell_type": "code",
   "execution_count": 3,
   "metadata": {},
   "outputs": [
    {
     "data": {
      "text/latex": [
       "$\\{a \\mathbin{\\mathsf{;}} \\mathsf{first\\_match}(b^{\\star} \\mathbin{\\mathsf{;}} c^+ \\mathbin{\\mathsf{;}} d)\\}\\mathrel{\\Diamond\\kern-1.7pt\\raise.4pt\\hbox{$\\mathord{\\rightarrow}$}} (c \\land \\mathsf{G} \\mathsf{F} b)$"
      ],
      "text/plain": [
       "spot.formula(\"{a;first_match(b[*];c[+];d)}<>-> (c & GFb)\")"
      ]
     },
     "execution_count": 3,
     "metadata": {},
     "output_type": "execute_result"
    }
   ],
   "source": [
    "g = spot.formula('{a;first_match(b*;c[+];d)}<>->(GFb & c)'); g"
   ]
  },
  {
   "cell_type": "markdown",
   "metadata": {},
   "source": [
    "By default the parser recognizes an infix syntax, but when this fails, it tries to read the formula with the [LBT](http://www.tcs.hut.fi/Software/maria/tools/lbt/) syntax:"
   ]
  },
  {
   "cell_type": "code",
   "execution_count": 4,
   "metadata": {},
   "outputs": [
    {
     "data": {
      "text/latex": [
       "$c \\land (a \\lor b)$"
      ],
      "text/plain": [
       "spot.formula(\"c & (a | b)\")"
      ]
     },
     "execution_count": 4,
     "metadata": {},
     "output_type": "execute_result"
    }
   ],
   "source": [
    "h = spot.formula('& | a b c'); h"
   ]
  },
  {
   "cell_type": "markdown",
   "metadata": {},
   "source": [
    "Passing a `formula` to `spot.formula` simply returns the formula."
   ]
  },
  {
   "cell_type": "code",
   "execution_count": 5,
   "metadata": {},
   "outputs": [
    {
     "data": {
      "text/latex": [
       "$c \\land (a \\lor b)$"
      ],
      "text/plain": [
       "spot.formula(\"c & (a | b)\")"
      ]
     },
     "execution_count": 5,
     "metadata": {},
     "output_type": "execute_result"
    }
   ],
   "source": [
    "spot.formula(h)"
   ]
  },
  {
   "cell_type": "markdown",
   "metadata": {},
   "source": [
    "By default, a formula object is presented using mathjax as above.\n",
    "When a formula is converted to string you get Spot's syntax by default:"
   ]
  },
  {
   "cell_type": "code",
   "execution_count": 6,
   "metadata": {},
   "outputs": [
    {
     "data": {
      "text/plain": [
       "'p1 U (p2 R (p3 & !p4))'"
      ]
     },
     "execution_count": 6,
     "metadata": {},
     "output_type": "execute_result"
    }
   ],
   "source": [
    "str(f)"
   ]
  },
  {
   "cell_type": "markdown",
   "metadata": {},
   "source": [
    "If you prefer to print the string in another syntax, you may use the `to_str()` method, with an argument that indicates the output format to use.  The `latex` format assumes that you will the define macros such as `\\U`, `\\R` to render all operators as you wish.  On the otherhand, the `sclatex` (with `sc` for self-contained) format hard-codes the rendering of each of those operators: this is almost the same output that is used to render formulas using MathJax in a notebook. `sclatex` and `mathjax` only differ in the rendering of double-quoted atomic propositions."
   ]
  },
  {
   "cell_type": "code",
   "execution_count": 7,
   "metadata": {},
   "outputs": [
    {
     "name": "stdout",
     "output_type": "stream",
     "text": [
      "spot      p1 U (p2 R (p3 & !p4))\n",
      "spin      p1 U (p2 V (p3 && !p4))\n",
      "lbt       U p1 V p2 & p3 ! p4\n",
      "wring     (p1=1) U ((p2=1) R ((p3=1) * (p4=0)))\n",
      "utf8      p1 U (p2 R (p3∧¬p4))\n",
      "latex     p_{1} \\U (p_{2} \\R (p_{3} \\land \\lnot p_{4}))\n",
      "sclatex   p_{1} \\mathbin{\\mathsf{U}} (p_{2} \\mathbin{\\mathsf{R}} (p_{3} \\land \\lnot p_{4}))\n",
      "mathjax   p_{1} \\mathbin{\\mathsf{U}} (p_{2} \\mathbin{\\mathsf{R}} (p_{3} \\land \\lnot p_{4}))\n"
     ]
    }
   ],
   "source": [
    "for i in ['spot', 'spin', 'lbt', 'wring', 'utf8', 'latex', 'sclatex', 'mathjax']:\n",
    "    print(\"%-10s%s\" % (i, f.to_str(i)))"
   ]
  },
  {
   "cell_type": "markdown",
   "metadata": {},
   "source": [
    "Formulas output via `format()` can also use some convenient shorthand to select the syntax:"
   ]
  },
  {
   "cell_type": "code",
   "execution_count": 8,
   "metadata": {},
   "outputs": [
    {
     "name": "stdout",
     "output_type": "stream",
     "text": [
      "Spin:               p1 U (p2 V (p3 && !p4))\n",
      "Spin+parentheses:   (p1) U ((p2) V ((p3) && (!(p4))))\n",
      "Spot (default):     p1 U (p2 R (p3 & !p4))\n",
      "Spot+shell quotes:  'p1 U (p2 R (p3 & !p4))'\n",
      "LBT, right aligned: ~~~~~~~~~~~~~~~~~~~~~U p1 V p2 & p3 ! p4\n",
      "LBT, no M/W/R:      U p1 U & p3 ! p4 | & & p2 p3 ! p4 G & p3 ! p4\n"
     ]
    }
   ],
   "source": [
    "print(\"\"\"\\\n",
    "Spin:               {0:s}\n",
    "Spin+parentheses:   {0:sp}\n",
    "Spot (default):     {0}\n",
    "Spot+shell quotes:  {0:q}\n",
    "LBT, right aligned: {0:l:~>40}\n",
    "LBT, no M/W/R:      {0:[MWR]l}\"\"\".format(f))"
   ]
  },
  {
   "cell_type": "markdown",
   "metadata": {},
   "source": [
    "The specifiers that can be used with `format` are documented as follows:"
   ]
  },
  {
   "cell_type": "code",
   "execution_count": 9,
   "metadata": {},
   "outputs": [
    {
     "name": "stdout",
     "output_type": "stream",
     "text": [
      "Help on function __format__ in module spot:\n",
      "\n",
      "__format__(self, spec)\n",
      "    Format the formula according to `spec`.\n",
      "    \n",
      "    Parameters\n",
      "    ----------\n",
      "    spec : str, optional\n",
      "        a list of letters that specify how the formula\n",
      "        should be formatted.\n",
      "    \n",
      "    Supported specifiers\n",
      "    --------------------\n",
      "    \n",
      "    - 'f': use Spot's syntax (default)\n",
      "    - '8': use Spot's syntax in UTF-8 mode\n",
      "    - 's': use Spin's syntax\n",
      "    - 'l': use LBT's syntax\n",
      "    - 'w': use Wring's syntax\n",
      "    - 'x': use LaTeX output\n",
      "    - 'X': use self-contained LaTeX output\n",
      "    - 'j': use self-contained LaTeX output, adjusted for MathJax\n",
      "    \n",
      "    Add some of those letters for additional options:\n",
      "    \n",
      "    - 'p': use full parentheses\n",
      "    - 'c': escape the formula for CSV output (this will\n",
      "           enclose the formula in double quotes, and escape\n",
      "           any included double quotes)\n",
      "    - 'h': escape the formula for HTML output\n",
      "    - 'd': escape double quotes and backslash,\n",
      "           for use in C-strings (the outermost double\n",
      "           quotes are *not* added)\n",
      "    - 'q': quote and escape for shell output, using single\n",
      "           quotes or double quotes depending on the contents.\n",
      "    - '[...]': rewrite away all the operators specified in brackets,\n",
      "           using spot.unabbreviate().\n",
      "    \n",
      "    - ':spec': pass the remaining specification to the\n",
      "               formating function for strings.\n",
      "\n"
     ]
    }
   ],
   "source": [
    "help(spot.formula.__format__)"
   ]
  },
  {
   "cell_type": "markdown",
   "metadata": {},
   "source": [
    "A `spot.formula` object has a number of built-in predicates whose value have been computed when the formula was constructed.  For instance you can check whether a formula is in negative normal form using `is_in_nenoform()`, and you can make sure it is an LTL formula (i.e. not a PSL formula) using `is_ltl_formula()`:"
   ]
  },
  {
   "cell_type": "code",
   "execution_count": 10,
   "metadata": {},
   "outputs": [
    {
     "data": {
      "text/plain": [
       "True"
      ]
     },
     "execution_count": 10,
     "metadata": {},
     "output_type": "execute_result"
    }
   ],
   "source": [
    "f.is_in_nenoform() and f.is_ltl_formula()"
   ]
  },
  {
   "cell_type": "code",
   "execution_count": 11,
   "metadata": {},
   "outputs": [
    {
     "data": {
      "text/plain": [
       "False"
      ]
     },
     "execution_count": 11,
     "metadata": {},
     "output_type": "execute_result"
    }
   ],
   "source": [
    "g.is_ltl_formula()"
   ]
  },
  {
   "cell_type": "markdown",
   "metadata": {},
   "source": [
    "Similarly, `is_syntactic_stutter_invariant()` tells wether the structure of the formula guarranties it to be stutter invariant.  For LTL formula, this means the `X` operator should not be used.  For PSL formula, this function capture all formulas built using the [siPSL grammar](http://www.daxc.de/eth/paper/09atva.pdf)."
   ]
  },
  {
   "cell_type": "code",
   "execution_count": 12,
   "metadata": {},
   "outputs": [
    {
     "data": {
      "text/plain": [
       "True"
      ]
     },
     "execution_count": 12,
     "metadata": {},
     "output_type": "execute_result"
    }
   ],
   "source": [
    "f.is_syntactic_stutter_invariant()"
   ]
  },
  {
   "cell_type": "code",
   "execution_count": 13,
   "metadata": {},
   "outputs": [
    {
     "data": {
      "text/plain": [
       "False"
      ]
     },
     "execution_count": 13,
     "metadata": {},
     "output_type": "execute_result"
    }
   ],
   "source": [
    "spot.formula('{a[*];b}<>->c').is_syntactic_stutter_invariant()"
   ]
  },
  {
   "cell_type": "code",
   "execution_count": 14,
   "metadata": {},
   "outputs": [
    {
     "data": {
      "text/plain": [
       "True"
      ]
     },
     "execution_count": 14,
     "metadata": {},
     "output_type": "execute_result"
    }
   ],
   "source": [
    "spot.formula('{a[+];b[*]}<>->d').is_syntactic_stutter_invariant()"
   ]
  },
  {
   "cell_type": "markdown",
   "metadata": {},
   "source": [
    "`spot.relabel` renames the atomic propositions that occur in a formula, using either letters, or numbered propositions:"
   ]
  },
  {
   "cell_type": "code",
   "execution_count": 15,
   "metadata": {},
   "outputs": [
    {
     "data": {
      "text/latex": [
       "$\\unicode{x201C}\\mathit{a > b}\\unicode{x201D} \\land \\unicode{x201C}\\mathit{proc[2]@init}\\unicode{x201D} \\land \\mathsf{G} \\mathsf{F} \\mathit{\\_foo\\_}$"
      ],
      "text/plain": [
       "spot.formula(\"\\\"a > b\\\" & \\\"proc[2]@init\\\" & GF_foo_\")"
      ]
     },
     "execution_count": 15,
     "metadata": {},
     "output_type": "execute_result"
    }
   ],
   "source": [
    "gf = spot.formula('(GF_foo_) && \"a > b\" && \"proc[2]@init\"'); gf"
   ]
  },
  {
   "cell_type": "code",
   "execution_count": 16,
   "metadata": {},
   "outputs": [
    {
     "data": {
      "text/latex": [
       "$a \\land b \\land \\mathsf{G} \\mathsf{F} c$"
      ],
      "text/plain": [
       "spot.formula(\"a & b & GFc\")"
      ]
     },
     "execution_count": 16,
     "metadata": {},
     "output_type": "execute_result"
    }
   ],
   "source": [
    "spot.relabel(gf, spot.Abc)"
   ]
  },
  {
   "cell_type": "code",
   "execution_count": 17,
   "metadata": {},
   "outputs": [
    {
     "data": {
      "text/latex": [
       "$p_{0} \\land p_{1} \\land \\mathsf{G} \\mathsf{F} p_{2}$"
      ],
      "text/plain": [
       "spot.formula(\"p0 & p1 & GFp2\")"
      ]
     },
     "execution_count": 17,
     "metadata": {},
     "output_type": "execute_result"
    }
   ],
   "source": [
    "spot.relabel(gf, spot.Pnn)"
   ]
  },
  {
   "cell_type": "markdown",
   "metadata": {},
   "source": [
    "The AST of any formula can be displayed with `show_ast()`.  Despite the name, this is not a tree but a DAG, because identical subtrees are merged.  Binary operators have their left and right operands denoted with `L` and `R`, while non-commutative n-ary operators have their operands numbered."
   ]
  },
  {
   "cell_type": "code",
   "execution_count": 18,
   "metadata": {},
   "outputs": [
    {
     "name": "stdout",
     "output_type": "stream",
     "text": [
      "{a;first_match(b[*];c[+];d)}<>-> (c & GFb)\n"
     ]
    },
    {
     "data": {
      "image/svg+xml": [
       "<?xml version=\"1.0\" encoding=\"UTF-8\" standalone=\"no\"?>\n",
       "<!DOCTYPE svg PUBLIC \"-//W3C//DTD SVG 1.1//EN\"\n",
       " \"http://www.w3.org/Graphics/SVG/1.1/DTD/svg11.dtd\">\n",
       "<!-- Generated by graphviz version 2.43.0 (0)\n",
       " -->\n",
       "<!-- Title: G Pages: 1 -->\n",
       "<svg width=\"371pt\" height=\"404pt\"\n",
       " viewBox=\"0.00 0.00 371.00 404.00\" xmlns=\"http://www.w3.org/2000/svg\" xmlns:xlink=\"http://www.w3.org/1999/xlink\">\n",
       "<g id=\"graph0\" class=\"graph\" transform=\"scale(1.0 1.0) rotate(0) translate(4 400)\">\n",
       "<title>G</title>\n",
       "<polygon fill=\"white\" stroke=\"transparent\" points=\"-4,4 -4,-400 367,-400 367,4 -4,4\"/>\n",
       "<!-- 0 -->\n",
       "<g id=\"node1\" class=\"node\">\n",
       "<title>0</title>\n",
       "<ellipse fill=\"none\" stroke=\"black\" cx=\"161\" cy=\"-378\" rx=\"40.89\" ry=\"18\"/>\n",
       "<text text-anchor=\"middle\" x=\"161\" y=\"-374.3\" font-family=\"Times,serif\" font-size=\"14.00\">EConcat</text>\n",
       "</g>\n",
       "<!-- 1 -->\n",
       "<g id=\"node2\" class=\"node\">\n",
       "<title>1</title>\n",
       "<ellipse fill=\"none\" stroke=\"black\" cx=\"129\" cy=\"-306\" rx=\"36\" ry=\"18\"/>\n",
       "<text text-anchor=\"middle\" x=\"129\" y=\"-302.3\" font-family=\"Times,serif\" font-size=\"14.00\">Concat</text>\n",
       "</g>\n",
       "<!-- 0&#45;&gt;1 -->\n",
       "<g id=\"edge9\" class=\"edge\">\n",
       "<title>0&#45;&gt;1</title>\n",
       "<path fill=\"none\" stroke=\"black\" d=\"M153.25,-360.05C149.56,-351.97 145.06,-342.12 140.94,-333.11\"/>\n",
       "<polygon fill=\"black\" stroke=\"black\" points=\"144.02,-331.43 136.67,-323.79 137.65,-334.34 144.02,-331.43\"/>\n",
       "<text text-anchor=\"middle\" x=\"148.75\" y=\"-348.85\" font-family=\"Times,serif\" font-size=\"14.00\">L</text>\n",
       "</g>\n",
       "<!-- 10 -->\n",
       "<g id=\"node11\" class=\"node\">\n",
       "<title>10</title>\n",
       "<ellipse fill=\"none\" stroke=\"black\" cx=\"225\" cy=\"-234\" rx=\"27\" ry=\"18\"/>\n",
       "<text text-anchor=\"middle\" x=\"225\" y=\"-230.3\" font-family=\"Times,serif\" font-size=\"14.00\">And</text>\n",
       "</g>\n",
       "<!-- 0&#45;&gt;10 -->\n",
       "<g id=\"edge14\" class=\"edge\">\n",
       "<title>0&#45;&gt;10</title>\n",
       "<path fill=\"none\" stroke=\"black\" d=\"M168.59,-360.15C179.67,-335.57 200.36,-289.68 213.36,-260.82\"/>\n",
       "<polygon fill=\"black\" stroke=\"black\" points=\"216.7,-261.94 217.61,-251.39 210.31,-259.07 216.7,-261.94\"/>\n",
       "<text text-anchor=\"middle\" x=\"163.59\" y=\"-348.95\" font-family=\"Times,serif\" font-size=\"14.00\">R</text>\n",
       "</g>\n",
       "<!-- 2 -->\n",
       "<g id=\"node3\" class=\"node\">\n",
       "<title>2</title>\n",
       "<polygon fill=\"none\" stroke=\"black\" points=\"54,-36 0,-36 0,0 54,0 54,-36\"/>\n",
       "<text text-anchor=\"middle\" x=\"27\" y=\"-14.3\" font-family=\"Times,serif\" font-size=\"14.00\">a</text>\n",
       "</g>\n",
       "<!-- 1&#45;&gt;2 -->\n",
       "<g id=\"edge1\" class=\"edge\">\n",
       "<title>1&#45;&gt;2</title>\n",
       "<path fill=\"none\" stroke=\"black\" d=\"M107.33,-291.42C94.15,-281.99 78.14,-268.23 69,-252 31.37,-185.16 26.28,-91.96 26.29,-46.34\"/>\n",
       "<polygon fill=\"black\" stroke=\"black\" points=\"29.79,-46.1 26.38,-36.07 22.79,-46.04 29.79,-46.1\"/>\n",
       "<text text-anchor=\"middle\" x=\"103.83\" y=\"-280.22\" font-family=\"Times,serif\" font-size=\"14.00\">1</text>\n",
       "</g>\n",
       "<!-- 3 -->\n",
       "<g id=\"node4\" class=\"node\">\n",
       "<title>3</title>\n",
       "<ellipse fill=\"none\" stroke=\"black\" cx=\"129\" cy=\"-234\" rx=\"51.19\" ry=\"18\"/>\n",
       "<text text-anchor=\"middle\" x=\"129\" y=\"-230.3\" font-family=\"Times,serif\" font-size=\"14.00\">first_match</text>\n",
       "</g>\n",
       "<!-- 1&#45;&gt;3 -->\n",
       "<g id=\"edge8\" class=\"edge\">\n",
       "<title>1&#45;&gt;3</title>\n",
       "<path fill=\"none\" stroke=\"black\" d=\"M129,-287.7C129,-279.98 129,-270.71 129,-262.11\"/>\n",
       "<polygon fill=\"black\" stroke=\"black\" points=\"132.5,-262.1 129,-252.1 125.5,-262.1 132.5,-262.1\"/>\n",
       "<text text-anchor=\"middle\" x=\"125.5\" y=\"-276.5\" font-family=\"Times,serif\" font-size=\"14.00\">2</text>\n",
       "</g>\n",
       "<!-- 4 -->\n",
       "<g id=\"node5\" class=\"node\">\n",
       "<title>4</title>\n",
       "<ellipse fill=\"none\" stroke=\"black\" cx=\"137\" cy=\"-162\" rx=\"36\" ry=\"18\"/>\n",
       "<text text-anchor=\"middle\" x=\"137\" y=\"-158.3\" font-family=\"Times,serif\" font-size=\"14.00\">Concat</text>\n",
       "</g>\n",
       "<!-- 3&#45;&gt;4 -->\n",
       "<g id=\"edge7\" class=\"edge\">\n",
       "<title>3&#45;&gt;4</title>\n",
       "<path fill=\"none\" stroke=\"black\" d=\"M130.98,-215.7C131.86,-207.98 132.92,-198.71 133.9,-190.11\"/>\n",
       "<polygon fill=\"black\" stroke=\"black\" points=\"137.39,-190.44 135.05,-180.1 130.43,-189.64 137.39,-190.44\"/>\n",
       "</g>\n",
       "<!-- 5 -->\n",
       "<g id=\"node6\" class=\"node\">\n",
       "<title>5</title>\n",
       "<ellipse fill=\"none\" stroke=\"black\" cx=\"264\" cy=\"-90\" rx=\"27\" ry=\"18\"/>\n",
       "<text text-anchor=\"middle\" x=\"264\" y=\"-86.3\" font-family=\"Times,serif\" font-size=\"14.00\">Star</text>\n",
       "</g>\n",
       "<!-- 4&#45;&gt;5 -->\n",
       "<g id=\"edge3\" class=\"edge\">\n",
       "<title>4&#45;&gt;5</title>\n",
       "<path fill=\"none\" stroke=\"black\" d=\"M160.29,-148.16C181.31,-136.57 212.32,-119.48 234.95,-107.01\"/>\n",
       "<polygon fill=\"black\" stroke=\"black\" points=\"236.72,-110.03 243.78,-102.14 233.34,-103.9 236.72,-110.03\"/>\n",
       "<text text-anchor=\"middle\" x=\"156.79\" y=\"-136.96\" font-family=\"Times,serif\" font-size=\"14.00\">1</text>\n",
       "</g>\n",
       "<!-- 7 -->\n",
       "<g id=\"node8\" class=\"node\">\n",
       "<title>7</title>\n",
       "<ellipse fill=\"none\" stroke=\"black\" cx=\"154\" cy=\"-90\" rx=\"27\" ry=\"18\"/>\n",
       "<text text-anchor=\"middle\" x=\"154\" y=\"-86.3\" font-family=\"Times,serif\" font-size=\"14.00\">Star</text>\n",
       "</g>\n",
       "<!-- 4&#45;&gt;7 -->\n",
       "<g id=\"edge5\" class=\"edge\">\n",
       "<title>4&#45;&gt;7</title>\n",
       "<path fill=\"none\" stroke=\"black\" d=\"M141.12,-144.05C143.01,-136.26 145.3,-126.82 147.42,-118.08\"/>\n",
       "<polygon fill=\"black\" stroke=\"black\" points=\"150.85,-118.82 149.8,-108.28 144.04,-117.17 150.85,-118.82\"/>\n",
       "<text text-anchor=\"middle\" x=\"137.62\" y=\"-132.85\" font-family=\"Times,serif\" font-size=\"14.00\">2</text>\n",
       "</g>\n",
       "<!-- 9 -->\n",
       "<g id=\"node10\" class=\"node\">\n",
       "<title>9</title>\n",
       "<polygon fill=\"none\" stroke=\"black\" points=\"126,-36 72,-36 72,0 126,0 126,-36\"/>\n",
       "<text text-anchor=\"middle\" x=\"99\" y=\"-14.3\" font-family=\"Times,serif\" font-size=\"14.00\">d</text>\n",
       "</g>\n",
       "<!-- 4&#45;&gt;9 -->\n",
       "<g id=\"edge6\" class=\"edge\">\n",
       "<title>4&#45;&gt;9</title>\n",
       "<path fill=\"none\" stroke=\"black\" d=\"M130.25,-144C126.32,-133.7 121.48,-120.22 118,-108 112.2,-87.61 107.26,-64.15 103.87,-46.44\"/>\n",
       "<polygon fill=\"black\" stroke=\"black\" points=\"107.24,-45.42 101.97,-36.23 100.36,-46.7 107.24,-45.42\"/>\n",
       "<text text-anchor=\"middle\" x=\"126.75\" y=\"-132.8\" font-family=\"Times,serif\" font-size=\"14.00\">3</text>\n",
       "</g>\n",
       "<!-- 6 -->\n",
       "<g id=\"node7\" class=\"node\">\n",
       "<title>6</title>\n",
       "<polygon fill=\"none\" stroke=\"black\" points=\"299,-36 245,-36 245,0 299,0 299,-36\"/>\n",
       "<text text-anchor=\"middle\" x=\"272\" y=\"-14.3\" font-family=\"Times,serif\" font-size=\"14.00\">b</text>\n",
       "</g>\n",
       "<!-- 5&#45;&gt;6 -->\n",
       "<g id=\"edge2\" class=\"edge\">\n",
       "<title>5&#45;&gt;6</title>\n",
       "<path fill=\"none\" stroke=\"black\" d=\"M265.98,-71.7C266.86,-63.98 267.92,-54.71 268.9,-46.11\"/>\n",
       "<polygon fill=\"black\" stroke=\"black\" points=\"272.39,-46.44 270.05,-36.1 265.43,-45.64 272.39,-46.44\"/>\n",
       "</g>\n",
       "<!-- 8 -->\n",
       "<g id=\"node9\" class=\"node\">\n",
       "<title>8</title>\n",
       "<polygon fill=\"none\" stroke=\"black\" points=\"213,-36 159,-36 159,0 213,0 213,-36\"/>\n",
       "<text text-anchor=\"middle\" x=\"186\" y=\"-14.3\" font-family=\"Times,serif\" font-size=\"14.00\">c</text>\n",
       "</g>\n",
       "<!-- 7&#45;&gt;8 -->\n",
       "<g id=\"edge4\" class=\"edge\">\n",
       "<title>7&#45;&gt;8</title>\n",
       "<path fill=\"none\" stroke=\"black\" d=\"M161.58,-72.41C165.22,-64.45 169.67,-54.72 173.77,-45.76\"/>\n",
       "<polygon fill=\"black\" stroke=\"black\" points=\"177.05,-47 178.02,-36.45 170.68,-44.09 177.05,-47\"/>\n",
       "</g>\n",
       "<!-- 10&#45;&gt;8 -->\n",
       "<g id=\"edge10\" class=\"edge\">\n",
       "<title>10&#45;&gt;8</title>\n",
       "<path fill=\"none\" stroke=\"black\" d=\"M221.87,-215.85C215.11,-178.75 199.09,-90.81 190.94,-46.1\"/>\n",
       "<polygon fill=\"black\" stroke=\"black\" points=\"194.38,-45.44 189.14,-36.23 187.49,-46.7 194.38,-45.44\"/>\n",
       "</g>\n",
       "<!-- 11 -->\n",
       "<g id=\"node12\" class=\"node\">\n",
       "<title>11</title>\n",
       "<ellipse fill=\"none\" stroke=\"black\" cx=\"300\" cy=\"-162\" rx=\"27\" ry=\"18\"/>\n",
       "<text text-anchor=\"middle\" x=\"300\" y=\"-158.3\" font-family=\"Times,serif\" font-size=\"14.00\">G</text>\n",
       "</g>\n",
       "<!-- 10&#45;&gt;11 -->\n",
       "<g id=\"edge13\" class=\"edge\">\n",
       "<title>10&#45;&gt;11</title>\n",
       "<path fill=\"none\" stroke=\"black\" d=\"M240.18,-218.83C250.85,-208.87 265.32,-195.37 277.35,-184.14\"/>\n",
       "<polygon fill=\"black\" stroke=\"black\" points=\"279.92,-186.53 284.85,-177.14 275.15,-181.41 279.92,-186.53\"/>\n",
       "</g>\n",
       "<!-- 12 -->\n",
       "<g id=\"node13\" class=\"node\">\n",
       "<title>12</title>\n",
       "<ellipse fill=\"none\" stroke=\"black\" cx=\"336\" cy=\"-90\" rx=\"27\" ry=\"18\"/>\n",
       "<text text-anchor=\"middle\" x=\"336\" y=\"-86.3\" font-family=\"Times,serif\" font-size=\"14.00\">F</text>\n",
       "</g>\n",
       "<!-- 11&#45;&gt;12 -->\n",
       "<g id=\"edge12\" class=\"edge\">\n",
       "<title>11&#45;&gt;12</title>\n",
       "<path fill=\"none\" stroke=\"black\" d=\"M308.35,-144.76C312.71,-136.28 318.15,-125.71 323.04,-116.2\"/>\n",
       "<polygon fill=\"black\" stroke=\"black\" points=\"326.23,-117.64 327.7,-107.15 320.01,-114.44 326.23,-117.64\"/>\n",
       "</g>\n",
       "<!-- 12&#45;&gt;6 -->\n",
       "<g id=\"edge11\" class=\"edge\">\n",
       "<title>12&#45;&gt;6</title>\n",
       "<path fill=\"none\" stroke=\"black\" d=\"M322.43,-74.15C314.3,-65.26 303.76,-53.74 294.43,-43.53\"/>\n",
       "<polygon fill=\"black\" stroke=\"black\" points=\"296.91,-41.06 287.58,-36.04 291.74,-45.78 296.91,-41.06\"/>\n",
       "</g>\n",
       "</g>\n",
       "</svg>\n"
      ],
      "text/plain": [
       "<spot.jupyter.SVG object>"
      ]
     },
     "execution_count": 18,
     "metadata": {},
     "output_type": "execute_result"
    }
   ],
   "source": [
    "print(g); g.show_ast()"
   ]
  },
  {
   "cell_type": "markdown",
   "metadata": {},
   "source": [
    "Any formula can also be classified in the temporal hierarchy of Manna & Pnueli"
   ]
  },
  {
   "cell_type": "code",
   "execution_count": 19,
   "metadata": {},
   "outputs": [
    {
     "data": {
      "image/svg+xml": [
       "\n",
       "<svg height=\"210\" width=\"220\" xmlns=\"http://www.w3.org/2000/svg\" version=\"1.1\">\n",
       "<polygon points=\"20,0 200,120 200,210 20,210\" fill=\"cyan\" opacity=\".2\" />\n",
       "<polygon points=\"20,120 155,210 20,210\" fill=\"cyan\" opacity=\".2\" />\n",
       "<polygon points=\"200,0 20,120 20,210 200,210\" fill=\"magenta\" opacity=\".15\" />\n",
       "<polygon points=\"200,120 65,210 200,210\" fill=\"magenta\" opacity=\".15\" />\n",
       "<g transform=\"translate(40,80)\">\n",
       "    <line x1=\"-10\" y1=\"-10\" x2=\"10\" y2=\"10\" stroke=\"red\" stroke-width=\"5\" />\n",
       "    <line x1=\"-10\" y1=\"10\" x2=\"10\" y2=\"-10\" stroke=\"red\" stroke-width=\"5\" />\n",
       "    </g>\n",
       "<g text-anchor=\"middle\" font-size=\"14\">\n",
       "<text x=\"110\" y=\"20\">Reactivity</text>\n",
       "<text x=\"60\" y=\"65\">Recurrence</text>\n",
       "<text x=\"160\" y=\"65\">Persistence</text>\n",
       "<text x=\"110\" y=\"125\">Obligation</text>\n",
       "<text x=\"60\" y=\"185\">Safety</text>\n",
       "<text x=\"160\" y=\"185\">Guarantee</text>\n",
       "</g>\n",
       "<g font-size=\"14\">\n",
       "<text text-anchor=\"begin\" transform=\"rotate(-90,18,210)\" x=\"18\" y=\"210\" fill=\"gray\">Monitor</text>\n",
       "<text text-anchor=\"end\" transform=\"rotate(-90,18,0)\" x=\"18\" y=\"0\" fill=\"gray\">Deterministic Büchi</text>\n",
       "<text text-anchor=\"begin\" transform=\"rotate(-90,214,210)\" x=\"214\" y=\"210\" fill=\"gray\">Terminal Büchi</text>\n",
       "<text text-anchor=\"end\" transform=\"rotate(-90,214,0)\" x=\"214\" y=\"0\" fill=\"gray\">Weak Büchi</text>\n",
       "</g>\n",
       "</svg>"
      ],
      "text/plain": [
       "<spot.jupyter.SVG object>"
      ]
     },
     "execution_count": 19,
     "metadata": {},
     "output_type": "execute_result"
    }
   ],
   "source": [
    "g.show_mp_hierarchy()"
   ]
  },
  {
   "cell_type": "code",
   "execution_count": 20,
   "metadata": {},
   "outputs": [
    {
     "data": {
      "text/plain": [
       "'recurrence'"
      ]
     },
     "execution_count": 20,
     "metadata": {},
     "output_type": "execute_result"
    }
   ],
   "source": [
    "spot.mp_class(g, 'v')"
   ]
  },
  {
   "cell_type": "code",
   "execution_count": 21,
   "metadata": {},
   "outputs": [
    {
     "data": {
      "text/latex": [
       "$\\mathsf{F} (a \\land \\mathsf{X} (\\lnot a \\land b))$"
      ],
      "text/plain": [
       "spot.formula(\"F(a & X(!a & b))\")"
      ]
     },
     "execution_count": 21,
     "metadata": {},
     "output_type": "execute_result"
    }
   ],
   "source": [
    "f = spot.formula('F(a & X(!a & b))'); f"
   ]
  },
  {
   "cell_type": "markdown",
   "metadata": {},
   "source": [
    "Etessami's rule for removing X (valid only in stutter-invariant formulas)"
   ]
  },
  {
   "cell_type": "code",
   "execution_count": 22,
   "metadata": {},
   "outputs": [
    {
     "data": {
      "text/latex": [
       "$\\mathsf{F} (a \\land ((a \\land (a \\mathbin{\\mathsf{U}} (\\lnot a \\land b)) \\land ((\\lnot b \\mathbin{\\mathsf{U}} \\lnot a) \\lor (b \\mathbin{\\mathsf{U}} \\lnot a))) \\lor (\\lnot a \\land (\\lnot a \\mathbin{\\mathsf{U}} (a \\land \\lnot a \\land b)) \\land ((\\lnot b \\mathbin{\\mathsf{U}} a) \\lor (b \\mathbin{\\mathsf{U}} a))) \\lor (b \\land (b \\mathbin{\\mathsf{U}} (\\lnot a \\land b \\land \\lnot b)) \\land ((\\lnot a \\mathbin{\\mathsf{U}} \\lnot b) \\lor (a \\mathbin{\\mathsf{U}} \\lnot b))) \\lor (\\lnot b \\land (\\lnot b \\mathbin{\\mathsf{U}} (\\lnot a \\land b)) \\land ((\\lnot a \\mathbin{\\mathsf{U}} b) \\lor (a \\mathbin{\\mathsf{U}} b))) \\lor (\\lnot a \\land b \\land (\\mathsf{G} \\lnot a \\lor \\mathsf{G} a) \\land (\\mathsf{G} \\lnot b \\lor \\mathsf{G} b))))$"
      ],
      "text/plain": [
       "spot.formula(\"F(a & ((a & (a U (!a & b)) & ((!b U !a) | (b U !a))) | (!a & (!a U (a & !a & b)) & ((!b U a) | (b U a))) | (b & (b U (!a & b & !b)) & ((!a U !b) | (a U !b))) | (!b & (!b U (!a & b)) & ((!a U b) | (a U b))) | (!a & b & (G!a | Ga) & (G!b | Gb))))\")"
      ]
     },
     "execution_count": 22,
     "metadata": {},
     "output_type": "execute_result"
    }
   ],
   "source": [
    "spot.remove_x(f)"
   ]
  },
  {
   "cell_type": "markdown",
   "metadata": {},
   "source": [
    "Removing abbreviated operators"
   ]
  },
  {
   "cell_type": "code",
   "execution_count": 23,
   "metadata": {},
   "outputs": [
    {
     "data": {
      "text/latex": [
       "$(\\bot \\mathbin{\\mathsf{R}} \\lnot (a \\leftrightarrow b)) \\rightarrow (\\top \\mathbin{\\mathsf{U}} (a \\leftrightarrow b))$"
      ],
      "text/plain": [
       "spot.formula(\"(0 R !(a <-> b)) -> (1 U (a <-> b))\")"
      ]
     },
     "execution_count": 23,
     "metadata": {},
     "output_type": "execute_result"
    }
   ],
   "source": [
    "f = spot.formula(\"G(a xor b) -> F(a <-> b)\")\n",
    "spot.unabbreviate(f, \"GF^\")"
   ]
  },
  {
   "cell_type": "code",
   "execution_count": 24,
   "metadata": {},
   "outputs": [
    {
     "data": {
      "text/latex": [
       "$(\\top \\mathbin{\\mathsf{U}} ((a \\land b) \\lor (\\lnot a \\land \\lnot b))) \\lor \\lnot (\\bot \\mathbin{\\mathsf{R}} ((\\lnot a \\land b) \\lor (a \\land \\lnot b)))$"
      ],
      "text/plain": [
       "spot.formula(\"(1 U ((a & b) | (!a & !b))) | !(0 R ((!a & b) | (a & !b)))\")"
      ]
     },
     "execution_count": 24,
     "metadata": {},
     "output_type": "execute_result"
    }
   ],
   "source": [
    "spot.unabbreviate(f, \"GF^ei\")"
   ]
  },
  {
   "cell_type": "markdown",
   "metadata": {},
   "source": [
    "Nesting level of operators"
   ]
  },
  {
   "cell_type": "code",
   "execution_count": 25,
   "metadata": {},
   "outputs": [
    {
     "name": "stdout",
     "output_type": "stream",
     "text": [
      "U 3\n",
      "F 2\n",
      "U 3\n",
      "F 2\n",
      "FU 4\n"
     ]
    }
   ],
   "source": [
    "f = spot.formula('F(b & X(a U b U ((a W Fb) | (c U d))))')\n",
    "print(\"U\", spot.nesting_depth(f, spot.op_U))\n",
    "print(\"F\", spot.nesting_depth(f, spot.op_F))\n",
    "# These following two are syntactic sugar for the above two\n",
    "print(\"U\", spot.nesting_depth(f, \"U\"))\n",
    "print(\"F\", spot.nesting_depth(f, \"F\"))\n",
    "# If you want to consider \"U\" and \"F\" are a similar type of\n",
    "# operator, you can count both with\n",
    "print(\"FU\", spot.nesting_depth(f, \"FU\"))"
   ]
  },
  {
   "cell_type": "markdown",
   "metadata": {},
   "source": [
    "Collecting the set of atomic propositions used by a formula:"
   ]
  },
  {
   "cell_type": "code",
   "execution_count": 26,
   "metadata": {},
   "outputs": [
    {
     "name": "stdout",
     "output_type": "stream",
     "text": [
      "spot.atomic_prop_set([spot.formula(\"a\"), spot.formula(\"b\"), spot.formula(\"c\"), spot.formula(\"d\")])\n",
      "{\"a\", \"b\", \"c\", \"d\"}\n"
     ]
    },
    {
     "data": {
      "text/latex": [
       "$\\{\\unicode{x201C}a\\unicode{x201D}, \\unicode{x201C}b\\unicode{x201D}, \\unicode{x201C}c\\unicode{x201D}, \\unicode{x201C}d\\unicode{x201D}\\}$"
      ],
      "text/plain": [
       "spot.atomic_prop_set([spot.formula(\"a\"), spot.formula(\"b\"), spot.formula(\"c\"), spot.formula(\"d\")])"
      ]
     },
     "metadata": {},
     "output_type": "display_data"
    }
   ],
   "source": [
    "ap = spot.atomic_prop_collect(f)\n",
    "print(repr(ap))  # print as an atomic_prop_set object\n",
    "print(ap)        # print as a string\n",
    "display(ap)      # LaTeX-style, for notebooks"
   ]
  }
 ],
 "metadata": {
  "kernelspec": {
   "display_name": "Python 3",
   "language": "python",
   "name": "python3"
  },
  "language_info": {
   "codemirror_mode": {
    "name": "ipython",
    "version": 3
   },
   "file_extension": ".py",
   "mimetype": "text/x-python",
   "name": "python",
   "nbconvert_exporter": "python",
   "pygments_lexer": "ipython3",
   "version": "3.7.5"
  }
 },
 "nbformat": 4,
 "nbformat_minor": 2
}
